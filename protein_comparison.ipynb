{
 "cells": [
  {
   "cell_type": "code",
   "execution_count": 32,
   "id": "southwest-renaissance",
   "metadata": {},
   "outputs": [],
   "source": [
    "import os\n",
    "import pandas as pd\n",
    "import pickle \n",
    "\n",
    "ROOT_DIR = os.getcwd()\n"
   ]
  },
  {
   "cell_type": "markdown",
   "id": "committed-jordan",
   "metadata": {},
   "source": [
    "### McGill Proteins"
   ]
  },
  {
   "cell_type": "code",
   "execution_count": 26,
   "id": "quiet-advertiser",
   "metadata": {},
   "outputs": [
    {
     "name": "stdout",
     "output_type": "stream",
     "text": [
      "['CRYBB2.10000.28', 'RAF1.10001.7', 'ZNF41.10003.15', 'ELK1.10006.25']\n",
      "\n",
      "McGill num. of proteins: 4984\n"
     ]
    }
   ],
   "source": [
    "TRAIN_PROT_LIST = os.path.join(ROOT_DIR, 'data', 'Somalogic_list_QC1.txt')\n",
    "with open(TRAIN_PROT_LIST) as f:\n",
    "    protein = f.readlines()\n",
    "\n",
    "mcgill_prot_list = [x.strip() for x in protein]\n",
    "print(mcgill_prot_list[:4])  # print first 4 proteins\n",
    "print(f\"\\nMcGill num. of proteins: {len(mcgill_prot_list)}\")"
   ]
  },
  {
   "cell_type": "markdown",
   "id": "julian-monthly",
   "metadata": {},
   "source": [
    "### Mt. Sinai Proteins"
   ]
  },
  {
   "cell_type": "code",
   "execution_count": 27,
   "id": "distributed-evaluation",
   "metadata": {},
   "outputs": [
    {
     "name": "stdout",
     "output_type": "stream",
     "text": [
      "['CRYBB2.10000.28', 'RAF1.10001.7', 'ZNF41.10003.15', 'ELK1.10006.25']\n",
      "\n",
      "Mt. Sinai num. of proteins: 4695\n"
     ]
    }
   ],
   "source": [
    "TEST_PROT_LIST = os.path.join(ROOT_DIR, 'data', 'mssm_protein_list.csv')\n",
    "test_sum_stats = pd.read_csv(TEST_PROT_LIST, low_memory=False)\n",
    "mssm_prot_list = test_sum_stats['c'].tolist()\n",
    "print(mssm_prot_list[:4])\n",
    "print(f\"\\nMt. Sinai num. of proteins: {len(mssm_prot_list)}\")"
   ]
  },
  {
   "cell_type": "code",
   "execution_count": 16,
   "id": "upper-accreditation",
   "metadata": {},
   "outputs": [
    {
     "name": "stdout",
     "output_type": "stream",
     "text": [
      "Common proteins in McGill and Mt. Sinai proteins: 4663\n"
     ]
    }
   ],
   "source": [
    "common_prot = list(set(mcgill_prot_list).intersection(mssm_prot_list))\n",
    "print(f\"Common proteins in McGill and Mt. Sinai proteins: {len(common_prot)}\")"
   ]
  },
  {
   "cell_type": "code",
   "execution_count": 29,
   "id": "pretty-walter",
   "metadata": {},
   "outputs": [
    {
     "name": "stdout",
     "output_type": "stream",
     "text": [
      "\n",
      "Num. of Mt. Sinai proteins not present in the intersection with McGill proteins: 32\n"
     ]
    },
    {
     "data": {
      "text/plain": [
       "['ERVV.1.12531.5',\n",
       " 'KRTAP2.4.14615.46',\n",
       " 'GFP.16535.61',\n",
       " 'HCE001796.2171.12',\n",
       " 'HCE003167.2178.55',\n",
       " 'HCE000414.2194.91',\n",
       " 'HCE003183.2229.54',\n",
       " 'HCE004333.2249.25',\n",
       " 'HCE004359.2273.34',\n",
       " 'HCE004331.2288.7',\n",
       " 'HCE003300.2305.52',\n",
       " 'HCE000483.2312.13',\n",
       " 'HCE004152.2359.65',\n",
       " 'HCE000342.2430.52',\n",
       " 'HCE000104.2513.7',\n",
       " 'IGHG1.IGHG2.IGHG3.IGHG4.IGK@.IGL@.2744.57',\n",
       " 'Human.virus.2769.3',\n",
       " 'IGHM.IGJ.IGK@.IGL@.3069.52',\n",
       " 'mdh.3507.1',\n",
       " 'nodH.3721.5',\n",
       " 'GFP.3849.56',\n",
       " 'MELT.4584.5',\n",
       " 'Human.virus.4792.51',\n",
       " 'IGHD.IGK@.IGL@.4916.2',\n",
       " 'non.human.8443.9',\n",
       " 'magainins.8444.3',\n",
       " 'magainins.8444.46',\n",
       " 'MELT.8445.184',\n",
       " 'MELT.8445.54',\n",
       " 'apcA.apcB.8471.53',\n",
       " 'mdh.8481.26',\n",
       " 'mdh.8481.44']"
      ]
     },
     "execution_count": 29,
     "metadata": {},
     "output_type": "execute_result"
    }
   ],
   "source": [
    "prot_in_mssm_not_in_intersect = [item for item in mssm_prot_list if item not in common_prot]\n",
    "print(f\"\\nNum. of Mt. Sinai proteins not present in the intersection with McGill proteins: {len(prot_in_mssm_not_in_intersect)}\")\n",
    "\n",
    "prot_in_mssm_not_in_intersect"
   ]
  },
  {
   "cell_type": "code",
   "execution_count": 19,
   "id": "according-drilling",
   "metadata": {},
   "outputs": [
    {
     "data": {
      "text/plain": [
       "4984"
      ]
     },
     "execution_count": 19,
     "metadata": {},
     "output_type": "execute_result"
    }
   ],
   "source": [
    "len(list(set(mcgill_prot_list)))"
   ]
  },
  {
   "cell_type": "markdown",
   "id": "military-expression",
   "metadata": {},
   "source": [
    "### Checking model variables\n"
   ]
  },
  {
   "cell_type": "code",
   "execution_count": 36,
   "id": "sharp-discovery",
   "metadata": {},
   "outputs": [],
   "source": [
    "FINAL_MODEL_DIR = os.path.join(ROOT_DIR, 'results', 'models', 'final')\n",
    "soma_data = 'normalized'\n",
    "nat_log_transf = 'True'\n",
    "standardize = 'True'"
   ]
  },
  {
   "cell_type": "markdown",
   "id": "headed-general",
   "metadata": {},
   "source": [
    "### Infe A2 "
   ]
  },
  {
   "cell_type": "code",
   "execution_count": 78,
   "id": "alone-ethnic",
   "metadata": {},
   "outputs": [],
   "source": [
    "data = 'infe'\n",
    "outcome = 'A2'"
   ]
  },
  {
   "cell_type": "code",
   "execution_count": 79,
   "id": "religious-closing",
   "metadata": {},
   "outputs": [
    {
     "data": {
      "text/plain": [
       "{'age_at_diagnosis': 0.008316909126226835,\n",
       " 'sex_M': 0.4429685557483413,\n",
       " 'ProcessTime': -0.034606220285538405,\n",
       " 'SampleGroup': -0.34074553570558064}"
      ]
     },
     "execution_count": 79,
     "metadata": {},
     "output_type": "execute_result"
    }
   ],
   "source": [
    "X_choice = 'baseline'\n",
    "\n",
    "model_coef_file = f'{FINAL_MODEL_DIR}/{X_choice}-soma_data={soma_data}-nat_log_transf={nat_log_transf}-standardize={standardize}_{data}_{outcome}_coef.pkl'\n",
    "model_coef = pickle.load(open(model_coef_file, 'rb'))\n",
    "model_coef"
   ]
  },
  {
   "cell_type": "code",
   "execution_count": 80,
   "id": "behind-modern",
   "metadata": {},
   "outputs": [
    {
     "name": "stdout",
     "output_type": "stream",
     "text": [
      "Num. of nonzero coefficients: 69\n"
     ]
    },
    {
     "data": {
      "text/plain": [
       "{'age_at_diagnosis': -0.028010451631391712,\n",
       " 'ProcessTime': -0.013517750413849242,\n",
       " 'BRD4.10043.31': 0.18724844733266266,\n",
       " 'CBS.10086.39': -0.08428213248506333,\n",
       " 'ZNRF3.10390.21': -0.010210969864161862,\n",
       " 'PSMB6.10530.8': 0.01857128228956861,\n",
       " 'CHI3L1.11104.13': 0.013348033555985355,\n",
       " 'CCDC64.11158.40': 0.04724104778792251,\n",
       " 'NAGPA.11208.15': -0.03553800941896891,\n",
       " 'TNR.11302.237': -0.11657627610329259,\n",
       " 'KRT7.11383.41': 0.25174161262805245,\n",
       " 'SETMAR.12462.20': 0.07157894672087094,\n",
       " 'ZNF134.12787.47': -0.07727172111392956,\n",
       " 'RELL1.13399.33': -0.0680972531579681,\n",
       " 'PTH1R.13470.43': 0.09375837768184384,\n",
       " 'SLC5A8.13691.10': -0.10089457365003755,\n",
       " 'RAP1GAP.13735.1': -0.05767067153590051,\n",
       " 'DAPK1.13955.33': 0.016414965225371704,\n",
       " 'SLC26A7.13979.3': 0.027914361037750756,\n",
       " 'IFNA7.14129.1': 0.15475623937602687,\n",
       " 'APOC1.15364.101': -0.034580717860192706,\n",
       " 'PLTP.15475.4': -0.057190334776238416,\n",
       " 'CLSTN1.15521.4': -0.0017604815280184143,\n",
       " 'NID2.16060.99': -0.0917440019953603,\n",
       " 'RAB3A.17516.7': 0.05369600244906203,\n",
       " 'HSPH1.17704.74': 0.055921297276356405,\n",
       " 'ANXA13.17835.28': -0.04922353935778792,\n",
       " 'CCDC25.18264.12': -0.003694124683102878,\n",
       " 'COL2A1.18875.125': 0.005649340715365795,\n",
       " 'TK2.19114.8': -0.08337762368417306,\n",
       " 'GIMAP6.19302.7': 0.05359242613498372,\n",
       " 'SFTPD.19590.46': 0.27601295832465245,\n",
       " 'KIT.2475.1': -0.013490368049397707,\n",
       " 'MICA.2730.58': -0.160647813075583,\n",
       " 'CDH5.2819.23': -0.11267699138246812,\n",
       " 'TIE1.2844.53': -0.05655300065867678,\n",
       " 'TBP.2875.15': -0.05261940456501501,\n",
       " 'CXCL13.3487.32': 0.174386133687349,\n",
       " 'CKB.3800.71': 0.01243465030028137,\n",
       " 'CXCL10.4141.79': 0.25383826794901465,\n",
       " 'CCL7.4886.3': 0.4881623775621927,\n",
       " 'GP1BA.4990.87': 0.02711773286155547,\n",
       " 'PRDX5.5017.19': 0.01832949215650981,\n",
       " 'SIRT2.5030.52': -0.03295188715848402,\n",
       " 'STK17B.5249.31': 0.012703887403812049,\n",
       " 'TNNT2.5315.22': 0.18509836617968342,\n",
       " 'PRKCG.5476.66': -0.052648398255255316,\n",
       " 'PRSS37.5653.23': -0.06013104427770501,\n",
       " 'VASN.5682.13': 0.0017717262127511727,\n",
       " 'TNXB.5698.60': -0.41521543023737656,\n",
       " 'IFNL3.5713.9': 0.02505440859926287,\n",
       " 'RNASE13.6424.2': -0.0008223291406945596,\n",
       " 'PCYOX1.6431.68': -0.05674215755289051,\n",
       " 'CLEC6A.6911.103': -0.016444756076475067,\n",
       " 'PCDHGA12.6938.21': 0.03323799383369126,\n",
       " 'SEMA6C.7202.107': 0.1286390469096899,\n",
       " 'APLP1.7210.25': -0.17193576801419938,\n",
       " 'DNAJC4.8016.19': 0.0642601597447894,\n",
       " 'C18orf32.8236.8': 0.04282640820155718,\n",
       " 'ICAM5.8245.27': 0.11436251801749668,\n",
       " 'DAG1.8369.102': 0.039250688230299126,\n",
       " 'CDHR1.8372.29': 0.17640018033824967,\n",
       " 'SMIM9.8888.33': -0.060639356889478344,\n",
       " 'PRRG1.9008.6': -0.06001896703278262,\n",
       " 'ABO.9253.52': -0.035268754334428415,\n",
       " 'CBLN1.9313.27': -0.004707923897948507,\n",
       " 'ERP27.9333.59': -0.053423631996898514,\n",
       " 'VCAN.9561.21': -0.049490456096568027,\n",
       " 'GABBR2.9930.48': -0.018782059155764197}"
      ]
     },
     "execution_count": 80,
     "metadata": {},
     "output_type": "execute_result"
    }
   ],
   "source": [
    "X_choice = 'all_proteins'\n",
    "\n",
    "model_coef_file = f'{FINAL_MODEL_DIR}/{X_choice}-soma_data={soma_data}-nat_log_transf={nat_log_transf}-standardize={standardize}_{data}_{outcome}_coef.pkl'\n",
    "model_coef = pickle.load(open(model_coef_file, 'rb'))\n",
    "print(f\"Num. of nonzero coefficients: {len(model_coef)}\")\n",
    "model_coef"
   ]
  },
  {
   "cell_type": "code",
   "execution_count": 81,
   "id": "gross-romance",
   "metadata": {},
   "outputs": [
    {
     "data": {
      "text/plain": [
       "['SLC5A8.13691.10', 'RAB3A.17516.7']"
      ]
     },
     "execution_count": 81,
     "metadata": {},
     "output_type": "execute_result"
    }
   ],
   "source": [
    "coefficients = list(model_coef.keys())\n",
    "\n",
    "# leave only proteins\n",
    "coefficients = [coef for coef in coefficients if coef not in ['age_at_diagnosis', 'sex', 'ProcessTime', 'SampleGroup']]\n",
    "\n",
    "# list of proteins in model that isn't in Mt. Sinai proteins\n",
    "[coef for coef in coefficients if coef not in common_prot]"
   ]
  },
  {
   "cell_type": "markdown",
   "id": "offensive-disclaimer",
   "metadata": {},
   "source": [
    "### Infe A3"
   ]
  },
  {
   "cell_type": "code",
   "execution_count": 82,
   "id": "regular-radius",
   "metadata": {},
   "outputs": [],
   "source": [
    "data = 'infe'\n",
    "outcome = 'A3'"
   ]
  },
  {
   "cell_type": "code",
   "execution_count": 83,
   "id": "entertaining-caribbean",
   "metadata": {},
   "outputs": [
    {
     "data": {
      "text/plain": [
       "{'age_at_diagnosis': 0.016121598272174888,\n",
       " 'ProcessTime': -0.030220663981670053,\n",
       " 'SampleGroup': -0.5221710430717814}"
      ]
     },
     "execution_count": 83,
     "metadata": {},
     "output_type": "execute_result"
    }
   ],
   "source": [
    "X_choice = 'baseline'\n",
    "\n",
    "model_coef_file = f'{FINAL_MODEL_DIR}/{X_choice}-soma_data={soma_data}-nat_log_transf={nat_log_transf}-standardize={standardize}_{data}_{outcome}_coef.pkl'\n",
    "model_coef = pickle.load(open(model_coef_file, 'rb'))\n",
    "model_coef"
   ]
  },
  {
   "cell_type": "code",
   "execution_count": 84,
   "id": "significant-simulation",
   "metadata": {},
   "outputs": [
    {
     "name": "stdout",
     "output_type": "stream",
     "text": [
      "Num. of nonzero coefficients: 60\n"
     ]
    },
    {
     "data": {
      "text/plain": [
       "{'age_at_diagnosis': 0.006405440081076953,\n",
       " 'ProcessTime': -0.02506519686881692,\n",
       " 'MCL1.10396.6': 0.06202957629493103,\n",
       " 'PLOD3.10612.18': 0.05858899371898752,\n",
       " 'GCH1.11185.145': 0.05125036818928842,\n",
       " 'XDH.11264.33': -0.009661623887352535,\n",
       " 'TEAD4.12516.13': 0.0207953006884026,\n",
       " 'ILF3.12759.47': 0.039737168716948275,\n",
       " 'ZNF334.12763.69': -0.019873170345061114,\n",
       " 'SF1.12777.11': 0.0003402063353080685,\n",
       " 'BAG4.12844.10': 0.06390214484270856,\n",
       " 'PVRL3.13557.3': -0.008148267053820121,\n",
       " 'RBL2.13565.2': 0.04650629783339722,\n",
       " 'NADK.13624.17': 0.058913312092893654,\n",
       " 'CSF1R.13682.47': -0.018302450030896377,\n",
       " 'FARS2.13941.82': -0.04523178842836486,\n",
       " 'AGAP3.13960.15': -0.04311789091375294,\n",
       " 'MAGI2.14066.49': 0.008863659577250323,\n",
       " 'PSMA4.14099.20': -0.08895092813376969,\n",
       " 'PNOC.15434.5': -0.03406877463136182,\n",
       " 'FBLN5.15585.304': 0.03869628536598177,\n",
       " 'AKR1C3.17377.1': -0.0009247570392170661,\n",
       " 'MRAS.18297.8': 0.014500933622310563,\n",
       " 'AS3MT.18417.3': -0.0010340910735489937,\n",
       " 'BLNK.19225.11': 0.03693503601697459,\n",
       " 'PFDN2.19243.2': 0.17387899366796813,\n",
       " 'SFTPD.19590.46': 0.16313672938564067,\n",
       " 'DCN.2666.53': 3.223473127312973e-05,\n",
       " 'CDH5.2819.23': -0.17846804677692682,\n",
       " 'PGF.3078.1': 0.24611847668343348,\n",
       " 'BSG.3585.54': 0.10045988490469453,\n",
       " 'CSF1.3738.54': 0.07647197756570132,\n",
       " 'TEK.3773.15': -0.0245911539493281,\n",
       " 'PFDN5.4271.75': 0.020109933131928718,\n",
       " 'GDF15.4374.45': 0.12874276904604015,\n",
       " 'IL1A.4851.25': -0.05186633386686491,\n",
       " 'CCL7.4886.3': 0.026188125030481284,\n",
       " 'CAPG.4968.50': 0.012837684041576616,\n",
       " 'MAPK12.5005.4': 0.047625773166936315,\n",
       " 'SIRT2.5030.52': -0.026042618843816367,\n",
       " 'NPPA.5443.62': 0.03694966144247662,\n",
       " 'SEMA3G.5628.21': -0.1443946339874906,\n",
       " 'MFAP4.5636.10': 0.014063013895693272,\n",
       " 'TMX3.5654.70': 0.09058630361530609,\n",
       " 'GALNT3.6593.5': 0.02068456022579571,\n",
       " 'NTN1.6649.51': 0.03177271864128327,\n",
       " 'HBZ.6919.3': -0.09920405791420586,\n",
       " 'STX3.7186.111': 0.13615532651402631,\n",
       " 'LRFN2.7200.4': -0.008362823003608171,\n",
       " 'APLP1.7210.25': -0.03944788691457106,\n",
       " 'ANKRD46.7851.30': 0.14566860599866546,\n",
       " 'MINOS1.7956.11': -0.010261455849367504,\n",
       " 'TMEM70.8074.32': 0.039589767852054515,\n",
       " 'RSPO3.8427.118': 0.037604903056932086,\n",
       " 'GPNMB.8606.39': -0.028936162168014985,\n",
       " 'IL21R.9366.54': 0.204119304393043,\n",
       " 'GALP.9398.30': -0.03786818033742518,\n",
       " 'LST1.9531.24': 0.0006291675666798718,\n",
       " 'PRR27.9607.39': -0.02504085233737658,\n",
       " 'ACTN2.9844.138': 0.001654607162996424}"
      ]
     },
     "execution_count": 84,
     "metadata": {},
     "output_type": "execute_result"
    }
   ],
   "source": [
    "X_choice = 'all_proteins'\n",
    "\n",
    "model_coef_file = f'{FINAL_MODEL_DIR}/{X_choice}-soma_data={soma_data}-nat_log_transf={nat_log_transf}-standardize={standardize}_{data}_{outcome}_coef.pkl'\n",
    "model_coef = pickle.load(open(model_coef_file, 'rb'))\n",
    "print(f\"Num. of nonzero coefficients: {len(model_coef)}\")\n",
    "model_coef"
   ]
  },
  {
   "cell_type": "code",
   "execution_count": 85,
   "id": "infectious-degree",
   "metadata": {},
   "outputs": [
    {
     "data": {
      "text/plain": [
       "[]"
      ]
     },
     "execution_count": 85,
     "metadata": {},
     "output_type": "execute_result"
    }
   ],
   "source": [
    "coefficients = list(model_coef.keys())\n",
    "\n",
    "# leave only proteins\n",
    "coefficients = [coef for coef in coefficients if coef not in ['age_at_diagnosis', 'sex', 'ProcessTime', 'SampleGroup']]\n",
    "\n",
    "# list of proteins in model that isn't in Mt. Sinai proteins\n",
    "[coef for coef in coefficients if coef not in common_prot]"
   ]
  },
  {
   "cell_type": "code",
   "execution_count": null,
   "id": "revised-maryland",
   "metadata": {},
   "outputs": [],
   "source": []
  }
 ],
 "metadata": {
  "kernelspec": {
   "display_name": "Python 3",
   "language": "python",
   "name": "python3"
  },
  "language_info": {
   "codemirror_mode": {
    "name": "ipython",
    "version": 3
   },
   "file_extension": ".py",
   "mimetype": "text/x-python",
   "name": "python",
   "nbconvert_exporter": "python",
   "pygments_lexer": "ipython3",
   "version": "3.7.9"
  }
 },
 "nbformat": 4,
 "nbformat_minor": 5
}
