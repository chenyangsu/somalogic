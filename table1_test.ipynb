{
 "cells": [
  {
   "cell_type": "code",
   "execution_count": null,
   "id": "fifteen-diesel",
   "metadata": {},
   "outputs": [],
   "source": [
    "import pandas as pd\n",
    "import os\n",
    "\n",
    "ROOT_DIR = os.getcwd()\n",
    "\n",
    "file = 'test.csv'\n",
    "file_path = os.path.join(ROOT_DIR, 'results', 'datasets', 'test', file)\n",
    "df = pd.read_csv(file_path, low_memory=False)\n",
    "df"
   ]
  },
  {
   "cell_type": "code",
   "execution_count": null,
   "id": "faced-respect",
   "metadata": {},
   "outputs": [],
   "source": [
    "from tableone import TableOne\n",
    "# if gives error then on command line run:\n",
    "# pip install tableone\n",
    "# or pip3 install tableone\n",
    "\n",
    "columns = ['age_at_diagnosis', 'sex', 'SampleGroup', 'A2', 'A3']\n",
    "mytable = TableOne(df, columns=columns)\n",
    "print(mytable.tabulate(tablefmt=\"github\"))"
   ]
  },
  {
   "cell_type": "code",
   "execution_count": null,
   "id": "hearing-roommate",
   "metadata": {},
   "outputs": [],
   "source": [
    "print(max(df['age_at_diagnosis']))\n",
    "print(min(df['age_at_diagnosis']))"
   ]
  },
  {
   "cell_type": "code",
   "execution_count": null,
   "id": "published-insider",
   "metadata": {},
   "outputs": [],
   "source": [
    "outcomes = ['A2', 'A3']\n",
    "for outcome in outcomes:\n",
    "    columns = ['age_at_diagnosis', 'sex', 'SampleGroup']\n",
    "\n",
    "    df_cases = df[df[outcome] == 1]  # cases\n",
    "    df_controls = df[df[outcome] == 0]\n",
    "    print(f'{outcome} cases')\n",
    "    print(f\"max age {max(df_cases['age_at_diagnosis'])}\")\n",
    "    print(f\"min age {min(df_cases['age_at_diagnosis'])}\")\n",
    "\n",
    "    mytable = TableOne(df_cases, columns=columns)\n",
    "    print(mytable.tabulate(tablefmt=\"github\"))\n",
    "    \n",
    "    print(f'{outcome} controls')\n",
    "    print(f\"max age {max(df_controls['age_at_diagnosis'])}\")\n",
    "    print(f\"min age {min(df_controls['age_at_diagnosis'])}\")\n",
    "\n",
    "    mytable = TableOne(df_controls, columns=columns)\n",
    "    print(mytable.tabulate(tablefmt=\"github\"))"
   ]
  }
 ],
 "metadata": {
  "kernelspec": {
   "display_name": "Python 3",
   "language": "python",
   "name": "python3"
  },
  "language_info": {
   "codemirror_mode": {
    "name": "ipython",
    "version": 3
   },
   "file_extension": ".py",
   "mimetype": "text/x-python",
   "name": "python",
   "nbconvert_exporter": "python",
   "pygments_lexer": "ipython3",
   "version": "3.7.9"
  }
 },
 "nbformat": 4,
 "nbformat_minor": 5
}
